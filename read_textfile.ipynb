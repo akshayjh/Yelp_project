{
 "cells": [
  {
   "cell_type": "code",
   "execution_count": 21,
   "metadata": {
    "collapsed": false,
    "scrolled": false
   },
   "outputs": [
    {
     "name": "stdout",
     "output_type": "stream",
     "text": [
      "H \"categories\":[\"Tobacco Shops\"\n",
      "H \"categories\":[\"Baby Gear & Furniture\"\n",
      "H \"categories\":[\"Tex-Mex\"\n",
      "H \"categories\":[\"Local Services\"\n"
     ]
    }
   ],
   "source": [
    "filename = 'business.txt'\n",
    "f  = open(filename, 'r')\n",
    "line = f.readline()\n",
    "while (line):\n",
    "    attr = line.split(\",\")\n",
    "    total = len(attr)\n",
    "    i = 0\n",
    "    while(i < total):\n",
    "        if attr[i].startswith(\"\\\"state\\\"\"):\n",
    "            state = attr[i][-3:-1]\n",
    "            if state == \"AZ\":\n",
    "                i += 1\n",
    "                while (i < total):\n",
    "                    if attr[i].startswith(\"\\\"categories\\\"\"):\n",
    "                        print(\"H\", attr[i])\n",
    "                        if \"Restaurants\" in attr[i]:\n",
    "                            print(line)\n",
    "                        break\n",
    "                    i += 1\n",
    "            break\n",
    "        i += 1\n",
    "            #Food\",\"Restaurants\"],\"hours\":\n",
    "            #((\\w+):(\\[.*?\\]))\n",
    "    line = f.readline() #do not delete\n"
   ]
  },
  {
   "cell_type": "code",
   "execution_count": null,
   "metadata": {
    "collapsed": true
   },
   "outputs": [],
   "source": []
  }
 ],
 "metadata": {
  "anaconda-cloud": {},
  "kernelspec": {
   "display_name": "Python [default]",
   "language": "python",
   "name": "python3"
  },
  "language_info": {
   "codemirror_mode": {
    "name": "ipython",
    "version": 3
   },
   "file_extension": ".py",
   "mimetype": "text/x-python",
   "name": "python",
   "nbconvert_exporter": "python",
   "pygments_lexer": "ipython3",
   "version": "3.5.2"
  }
 },
 "nbformat": 4,
 "nbformat_minor": 1
}
